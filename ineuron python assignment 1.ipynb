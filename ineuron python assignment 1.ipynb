{
 "cells": [
  {
   "cell_type": "markdown",
   "metadata": {},
   "source": [
    "#1.\n",
    "\n",
    "values : 'hello', -87.8, 6\n",
    "\n",
    "expressions : *, -, /, +"
   ]
  },
  {
   "cell_type": "markdown",
   "metadata": {},
   "source": [
    "#2.\n",
    "\n",
    "string : string is a data type. strings are immutable.\n",
    "\n",
    "variable : variable in python is a reserved memory location to store values."
   ]
  },
  {
   "cell_type": "markdown",
   "metadata": {},
   "source": [
    "#3.\n",
    "\n",
    "String: A string value is a collection of one or more characters put in single, double or triple quotes.\n",
    "eg : 'hello'\n",
    "\n",
    "List: A list object is an ordered collection of one or more data items, not necessarily of the same type, put in square brackets.\n",
    "eg : [1,2,3,4,5]\n",
    "\n",
    "Tuple: A Tuple object is an ordered collection of one or more data items, not necessarily of the same type, put in parentheses.\n",
    "eg : (1,2,'iuwiu',3)"
   ]
  },
  {
   "cell_type": "markdown",
   "metadata": {},
   "source": [
    "#4\n",
    "\n",
    "Expression is a combination of values, variables, and calls to functions.\n",
    "\n",
    "expressions evaluate down to a single value."
   ]
  },
  {
   "cell_type": "markdown",
   "metadata": {},
   "source": [
    "#5\n",
    "\n",
    "Expression is a combination of values, variables that evaluates down to a single value.\n",
    "\n",
    "Statements represent an action or a command. eg: print statements, assignment statements."
   ]
  },
  {
   "cell_type": "code",
   "execution_count": 3,
   "metadata": {},
   "outputs": [
    {
     "data": {
      "text/plain": [
       "23"
      ]
     },
     "execution_count": 3,
     "metadata": {},
     "output_type": "execute_result"
    }
   ],
   "source": [
    "#6.\n",
    "\n",
    "bacon = 22\n",
    "bacon + 1"
   ]
  },
  {
   "cell_type": "code",
   "execution_count": 4,
   "metadata": {},
   "outputs": [
    {
     "data": {
      "text/plain": [
       "'spamspamspam'"
      ]
     },
     "execution_count": 4,
     "metadata": {},
     "output_type": "execute_result"
    }
   ],
   "source": [
    "#7.\n",
    "\n",
    "a = 'spam' + 'spamspam'\n",
    "b = 'spam' * 3\n",
    "a\n",
    "b"
   ]
  },
  {
   "cell_type": "markdown",
   "metadata": {},
   "source": [
    "#8.\n",
    "\n",
    "A variable name starts with a letter, but a variable name cannot start with a number.\n",
    "\n",
    "That's why eggs is a valid variable name while 100 is invalid."
   ]
  },
  {
   "cell_type": "markdown",
   "metadata": {},
   "source": [
    "#9\n",
    "\n",
    "The int(), float(), and str() functions can be used to get the integer, floating-point number, or string version of a value respectively."
   ]
  },
  {
   "cell_type": "markdown",
   "metadata": {},
   "source": [
    "#10.\n",
    "\n",
    "'I have eaten' + 99 + 'burritos'\n",
    "\n",
    "This expression cause an error because python can concatenate string to string, not string to integer.\n",
    "\n",
    "This expression can be fixed by converting integer(99) to string.\n",
    "\n",
    "'I have eaten' + '99' + 'burritos'\n",
    "\n",
    "​"
   ]
  }
 ],
 "metadata": {
  "kernelspec": {
   "display_name": "Python 3",
   "language": "python",
   "name": "python3"
  },
  "language_info": {
   "codemirror_mode": {
    "name": "ipython",
    "version": 3
   },
   "file_extension": ".py",
   "mimetype": "text/x-python",
   "name": "python",
   "nbconvert_exporter": "python",
   "pygments_lexer": "ipython3",
   "version": "3.8.3"
  }
 },
 "nbformat": 4,
 "nbformat_minor": 4
}
